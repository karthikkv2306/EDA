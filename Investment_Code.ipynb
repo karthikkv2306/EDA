{
 "cells": [
  {
   "cell_type": "markdown",
   "metadata": {},
   "source": [
    "# DATA  CLEANING"
   ]
  },
  {
   "cell_type": "code",
   "execution_count": 1,
   "metadata": {},
   "outputs": [
    {
     "name": "stdout",
     "output_type": "stream",
     "text": [
      "The number of unique companies present in rounds2 = 66368 \n",
      "\n",
      "The number of unique companies present in companies = 66368 \n",
      "\n"
     ]
    }
   ],
   "source": [
    "import numpy as np\n",
    "import pandas as pd\n",
    "import matplotlib.pyplot as plt\n",
    "import seaborn as sns\n",
    "\n",
    "\n",
    "#Loading Companies and Rounds data\n",
    "\n",
    "companies = pd.read_csv('Companies.txt', sep = '\\t', encoding = 'ISO-8859-1')\n",
    "rounds2 = pd.read_csv('rounds2.csv', encoding = 'ISO-8859-1')\n",
    "\n",
    "# converting the column names to lower case assuming the data is case insensitive\n",
    "# After ooking at both the files we find no common entries if we take case sensitivity into consideration\n",
    "# hence making both the entries into lower case\n",
    "companies['permalink']=companies['permalink'].str.lower()\n",
    "rounds2['company_permalink'] = rounds2['company_permalink'].str.lower()\n",
    "\n",
    "# We see that there are many companies that have not been decoded properly due to different encodings used\n",
    "# Hence encoding to utf-8 and decoding back the columns of permalink to remove non-ASCII characters\n",
    "\n",
    "companies['permalink'] = companies.permalink.str.encode('utf-8').str.decode('ascii', 'ignore')\n",
    "rounds2['company_permalink']= rounds2.company_permalink.str.encode('utf-8').str.decode('ascii', 'ignore')\n",
    "\n",
    "#To compute the number of unique elements in each columns of the data frame\n",
    "\n",
    "# Here company_permalink is the unique id for a company in rounds2 dataframe\n",
    "unique_comp_rounds2 = rounds2['company_permalink'].nunique()\n",
    "print(f'The number of unique companies present in rounds2 = {unique_comp_rounds2} \\n')\n",
    "\n",
    "# permalink is the unique id for a company in the companies dataframe\n",
    "unique_comp_companies = companies['permalink'].nunique()\n",
    "print(f'The number of unique companies present in companies = {unique_comp_companies} \\n')\n",
    "\n"
   ]
  },
  {
   "cell_type": "code",
   "execution_count": 2,
   "metadata": {},
   "outputs": [
    {
     "name": "stdout",
     "output_type": "stream",
     "text": [
      "<class 'pandas.core.frame.DataFrame'>\n",
      "RangeIndex: 66368 entries, 0 to 66367\n",
      "Data columns (total 10 columns):\n",
      "permalink        66368 non-null object\n",
      "name             66367 non-null object\n",
      "homepage_url     61310 non-null object\n",
      "category_list    63220 non-null object\n",
      "status           66368 non-null object\n",
      "country_code     59410 non-null object\n",
      "state_code       57821 non-null object\n",
      "region           58338 non-null object\n",
      "city             58340 non-null object\n",
      "founded_at       51147 non-null object\n",
      "dtypes: object(10)\n",
      "memory usage: 5.1+ MB\n"
     ]
    }
   ],
   "source": [
    "# To check the columns in which count of the values = unique values. permalink has the count equal to unique\n",
    "# Hence it can be the unique key for each company\n",
    "companies.info()"
   ]
  },
  {
   "cell_type": "code",
   "execution_count": 3,
   "metadata": {},
   "outputs": [
    {
     "name": "stdout",
     "output_type": "stream",
     "text": [
      "3\n"
     ]
    }
   ],
   "source": [
    "# renaming the coulmnn in rounds2 to correspond to companies for easier manipulation\n",
    "rounds2.rename(columns = {'company_permalink':'permalink'}, inplace=True)\n",
    "\n",
    "# Performing outer merge to get all the data, the _merge column has 3 entries which are right only\n",
    "# So there are companies present in rounds2 not present in companies\n",
    "\n",
    "outer_merged_df = pd.merge(companies,\n",
    "                           rounds2,\n",
    "                           how='outer', \n",
    "                           on='permalink',\n",
    "                           indicator=True)\n",
    "\n",
    "# Here column '_merge' will have 'right_only' values if the entry is only present in the right dataframe i.e. rounds2\n",
    "print(sum(outer_merged_df['_merge']=='right_only'))\n"
   ]
  },
  {
   "cell_type": "code",
   "execution_count": 4,
   "metadata": {},
   "outputs": [
    {
     "name": "stdout",
     "output_type": "stream",
     "text": [
      "<class 'pandas.core.frame.DataFrame'>\n",
      "Int64Index: 114949 entries, 0 to 114948\n",
      "Data columns (total 15 columns):\n",
      "permalink                  114949 non-null object\n",
      "funding_round_permalink    114949 non-null object\n",
      "funding_round_type         114949 non-null object\n",
      "funding_round_code         31140 non-null object\n",
      "funded_at                  114949 non-null object\n",
      "raised_amount_usd          94959 non-null float64\n",
      "name                       114945 non-null object\n",
      "homepage_url               108812 non-null object\n",
      "category_list              111538 non-null object\n",
      "status                     114946 non-null object\n",
      "country_code               106270 non-null object\n",
      "state_code                 104002 non-null object\n",
      "region                     104781 non-null object\n",
      "city                       104784 non-null object\n",
      "founded_at                 94425 non-null object\n",
      "dtypes: float64(1), object(14)\n",
      "memory usage: 14.0+ MB\n",
      "None\n"
     ]
    }
   ],
   "source": [
    "\n",
    "# Performing left merge to get the master Dataframe\n",
    "# Left merge allows us to get the data for all the sectors across various countries\n",
    "# We can use this to find the best sectors and later on filter out by countries\n",
    "\n",
    "master_frame = pd.merge(rounds2, \n",
    "                        companies,\n",
    "                        how='left', \n",
    "                        on='permalink')\n",
    "\n",
    "\n",
    "print(master_frame.info())\n"
   ]
  },
  {
   "cell_type": "code",
   "execution_count": 5,
   "metadata": {
    "scrolled": true
   },
   "outputs": [],
   "source": [
    "master_frame.isnull().sum()\n",
    "# We see that most of the values in funding_round_code is missing, removing this column.\n",
    "\n",
    "master_frame = master_frame.drop('funding_round_code',1)"
   ]
  },
  {
   "cell_type": "code",
   "execution_count": 6,
   "metadata": {},
   "outputs": [],
   "source": [
    "# The raised amounts for various funding types have 0 values and the standard deviation is also very high\n",
    "# Hence removing these rows with NULL values since they constitute to only about 14% of data\n",
    "master_frame = master_frame[master_frame.raised_amount_usd.notnull()]\n"
   ]
  },
  {
   "cell_type": "code",
   "execution_count": 7,
   "metadata": {
    "scrolled": false
   },
   "outputs": [
    {
     "name": "stdout",
     "output_type": "stream",
     "text": [
      "<class 'pandas.core.frame.DataFrame'>\n",
      "Int64Index: 94959 entries, 0 to 114948\n",
      "Data columns (total 14 columns):\n",
      "permalink                  94959 non-null object\n",
      "funding_round_permalink    94959 non-null object\n",
      "funding_round_type         94959 non-null object\n",
      "funded_at                  94959 non-null object\n",
      "raised_amount_usd          94959 non-null float64\n",
      "name                       94956 non-null object\n",
      "homepage_url               90625 non-null object\n",
      "category_list              93914 non-null object\n",
      "status                     94957 non-null object\n",
      "country_code               89107 non-null object\n",
      "state_code                 87354 non-null object\n",
      "region                     87910 non-null object\n",
      "city                       87913 non-null object\n",
      "founded_at                 78991 non-null object\n",
      "dtypes: float64(1), object(13)\n",
      "memory usage: 10.9+ MB\n"
     ]
    }
   ],
   "source": [
    "# The cleaned up dataframe is used to answer question 5, Table 1.1\n",
    "master_frame.info()"
   ]
  },
  {
   "cell_type": "markdown",
   "metadata": {},
   "source": [
    "# Funding Type Analysis"
   ]
  },
  {
   "cell_type": "code",
   "execution_count": 8,
   "metadata": {},
   "outputs": [],
   "source": [
    "funding_types = master_frame.groupby('funding_round_type')"
   ]
  },
  {
   "cell_type": "code",
   "execution_count": 9,
   "metadata": {},
   "outputs": [
    {
     "data": {
      "text/plain": [
       "funding_round_type\n",
       "venture                  50228\n",
       "seed                     23603\n",
       "debt_financing            6682\n",
       "angel                     4860\n",
       "grant                     2124\n",
       "private_equity            1936\n",
       "undisclosed               1582\n",
       "convertible_note          1447\n",
       "equity_crowdfunding       1228\n",
       "post_ipo_equity            628\n",
       "product_crowdfunding       386\n",
       "post_ipo_debt              152\n",
       "non_equity_assistance       73\n",
       "secondary_market            30\n",
       "Name: raised_amount_usd, dtype: int64"
      ]
     },
     "execution_count": 9,
     "metadata": {},
     "output_type": "execute_result"
    }
   ],
   "source": [
    "# Finding the number of investments under each type of funds\n",
    "# Venture and Seed clearly have a lot more number of investments than the other types\n",
    "funding_types['raised_amount_usd'].count().sort_values(ascending  = False)"
   ]
  },
  {
   "cell_type": "code",
   "execution_count": 10,
   "metadata": {},
   "outputs": [
    {
     "data": {
      "text/plain": [
       "funding_round_type\n",
       "venture                  5.901262e+11\n",
       "private_equity           1.419254e+11\n",
       "debt_financing           1.138848e+11\n",
       "post_ipo_equity          5.161061e+10\n",
       "undisclosed              3.044143e+10\n",
       "post_ipo_debt            2.564309e+10\n",
       "seed                     1.698986e+10\n",
       "grant                    9.134424e+09\n",
       "angel                    4.659255e+09\n",
       "secondary_market         2.389489e+09\n",
       "convertible_note         2.103126e+09\n",
       "equity_crowdfunding      6.611162e+08\n",
       "product_crowdfunding     5.261686e+08\n",
       "non_equity_assistance    3.001782e+07\n",
       "Name: raised_amount_usd, dtype: float64"
      ]
     },
     "execution_count": 10,
     "metadata": {},
     "output_type": "execute_result"
    }
   ],
   "source": [
    "# Finding the total amount of investments for different types of funds\n",
    "# Here Venture, Private equity and debt_financing have more amount invested in them\n",
    "funding_types['raised_amount_usd'].sum().sort_values(ascending  = False)"
   ]
  },
  {
   "cell_type": "code",
   "execution_count": 11,
   "metadata": {},
   "outputs": [
    {
     "data": {
      "text/plain": [
       "funding_round_type\n",
       "secondary_market         32600000.0\n",
       "private_equity           20000000.0\n",
       "post_ipo_debt            19950000.0\n",
       "post_ipo_equity          12262852.5\n",
       "venture                   5000000.0\n",
       "debt_financing            1100000.0\n",
       "undisclosed               1018680.0\n",
       "angel                      400000.0\n",
       "seed                       275000.0\n",
       "convertible_note           272000.0\n",
       "grant                      201684.0\n",
       "product_crowdfunding       183915.0\n",
       "equity_crowdfunding        100000.0\n",
       "non_equity_assistance       60000.0\n",
       "Name: raised_amount_usd, dtype: float64"
      ]
     },
     "execution_count": 11,
     "metadata": {},
     "output_type": "execute_result"
    }
   ],
   "source": [
    "# Since these funds vary over a wide range of values and many values are concentrated across a certain intevral\n",
    "# for each type of funds. Hence if we look at the Medain values\n",
    "# Only venture and post_ipo_equity have the values betweeen 5 and 15 Million USD\n",
    "# From the above 3 observations its clearly evident venture is the best fund type to imvest in for our requirement.\n",
    "\n",
    "funding_types['raised_amount_usd'].median().sort_values(ascending = False)"
   ]
  },
  {
   "cell_type": "code",
   "execution_count": 12,
   "metadata": {},
   "outputs": [
    {
     "data": {
      "text/plain": [
       "funding_round_type\n",
       "post_ipo_debt            1.687046e+08\n",
       "post_ipo_equity          8.218249e+07\n",
       "secondary_market         7.964963e+07\n",
       "private_equity           7.330859e+07\n",
       "undisclosed              1.924237e+07\n",
       "debt_financing           1.704353e+07\n",
       "venture                  1.174895e+07\n",
       "grant                    4.300576e+06\n",
       "convertible_note         1.453439e+06\n",
       "product_crowdfunding     1.363131e+06\n",
       "angel                    9.586945e+05\n",
       "seed                     7.198180e+05\n",
       "equity_crowdfunding      5.383682e+05\n",
       "non_equity_assistance    4.112031e+05\n",
       "Name: raised_amount_usd, dtype: float64"
      ]
     },
     "execution_count": 12,
     "metadata": {},
     "output_type": "execute_result"
    }
   ],
   "source": [
    "# Finding the mean of investment amount for different types of funds\n",
    "# Even here we see that venture has an average of about 11 Million USD.\n",
    "funding_types['raised_amount_usd'].mean().sort_values(ascending = False)"
   ]
  },
  {
   "cell_type": "code",
   "execution_count": 13,
   "metadata": {},
   "outputs": [],
   "source": [
    "# Creating an updated dataframe to filter out the investments the company is not interested in\n",
    "# The updated dataframe only contains Venture type of investments\n",
    "master_frame = master_frame[master_frame.funding_round_type.isin(['venture'])]"
   ]
  },
  {
   "cell_type": "markdown",
   "metadata": {},
   "source": [
    "# Country Analysis"
   ]
  },
  {
   "cell_type": "code",
   "execution_count": 14,
   "metadata": {},
   "outputs": [],
   "source": [
    "# Now since we are narrowing down to the countries removing any NULL values in the Country code column\n",
    "master_frame = master_frame[master_frame.country_code.notnull()]"
   ]
  },
  {
   "cell_type": "code",
   "execution_count": 15,
   "metadata": {},
   "outputs": [
    {
     "data": {
      "text/plain": [
       "permalink                     0\n",
       "funding_round_permalink       0\n",
       "funding_round_type            0\n",
       "funded_at                     0\n",
       "raised_amount_usd             0\n",
       "name                          0\n",
       "homepage_url               2175\n",
       "category_list               302\n",
       "status                        0\n",
       "country_code                  0\n",
       "state_code                  744\n",
       "region                      596\n",
       "city                        596\n",
       "founded_at                 8551\n",
       "dtype: int64"
      ]
     },
     "execution_count": 15,
     "metadata": {},
     "output_type": "execute_result"
    }
   ],
   "source": [
    "master_frame.isnull().sum()"
   ]
  },
  {
   "cell_type": "code",
   "execution_count": 16,
   "metadata": {},
   "outputs": [],
   "source": [
    "temp_frame_top9 = master_frame.groupby('country_code')\n",
    "\n",
    "# Get the top 9 countries as a list\n",
    "# Here we have not yet taken the english language into consideration\n",
    "list_top9_countries = list(temp_frame_top9['raised_amount_usd'].sum().nlargest(n=9).keys())\n"
   ]
  },
  {
   "cell_type": "code",
   "execution_count": 18,
   "metadata": {},
   "outputs": [
    {
     "data": {
      "text/plain": [
       "['USA', 'CHN', 'GBR', 'IND', 'CAN', 'FRA', 'ISR', 'DEU', 'JPN']"
      ]
     },
     "execution_count": 18,
     "metadata": {},
     "output_type": "execute_result"
    }
   ],
   "source": [
    "# List of top 6 countries based on the number of investments in Venture type\n",
    "list_top9_countries_byCount = list(temp_frame_top9['raised_amount_usd'].sum().nlargest(n=9).keys())\n",
    "list_top9_countries_byCount"
   ]
  },
  {
   "cell_type": "code",
   "execution_count": 19,
   "metadata": {},
   "outputs": [],
   "source": [
    "# top9 has the top 9 countries on funds raised for the Venture type.\n",
    "top9 = master_frame[master_frame.country_code.isin(list_top9_countries)]"
   ]
  },
  {
   "cell_type": "code",
   "execution_count": 20,
   "metadata": {},
   "outputs": [],
   "source": [
    "# Off the top9 countries, the top 3 english speaking countries are USA, GBR and IND\n",
    "# Above data collected from Wikipedia\n",
    "# Hence Creating a dataframe top3 to work with henceforth\n",
    "\n",
    "top3 = top9[top9.country_code.isin(['USA', 'GBR', 'IND'])]"
   ]
  },
  {
   "cell_type": "code",
   "execution_count": 21,
   "metadata": {},
   "outputs": [],
   "source": [
    "# Removing entries which do not have any categories since the next step involves dealing with different sectors\n",
    "# Very few entries do not have category, so removing them as it wont be affecting the results much\n",
    "top3 = top3[top3.category_list.notnull()]"
   ]
  },
  {
   "cell_type": "code",
   "execution_count": 22,
   "metadata": {},
   "outputs": [
    {
     "name": "stdout",
     "output_type": "stream",
     "text": [
      "<class 'pandas.core.frame.DataFrame'>\n",
      "Int64Index: 38803 entries, 0 to 114936\n",
      "Data columns (total 14 columns):\n",
      "permalink                  38803 non-null object\n",
      "funding_round_permalink    38803 non-null object\n",
      "funding_round_type         38803 non-null object\n",
      "funded_at                  38803 non-null object\n",
      "raised_amount_usd          38803 non-null float64\n",
      "name                       38803 non-null object\n",
      "homepage_url               37011 non-null object\n",
      "category_list              38803 non-null object\n",
      "status                     38803 non-null object\n",
      "country_code               38803 non-null object\n",
      "state_code                 38731 non-null object\n",
      "region                     38647 non-null object\n",
      "city                       38647 non-null object\n",
      "founded_at                 32625 non-null object\n",
      "dtypes: float64(1), object(13)\n",
      "memory usage: 4.4+ MB\n"
     ]
    }
   ],
   "source": [
    "top3.info()"
   ]
  },
  {
   "cell_type": "markdown",
   "metadata": {},
   "source": [
    "# Sector Analysis 1"
   ]
  },
  {
   "cell_type": "code",
   "execution_count": 23,
   "metadata": {
    "scrolled": false
   },
   "outputs": [],
   "source": [
    "# Finding the primary sectors for each of the companies\n",
    "top3['primary_sector'] = top3.category_list.astype(str).apply(lambda x: x.split('|')[0])"
   ]
  },
  {
   "cell_type": "code",
   "execution_count": 24,
   "metadata": {},
   "outputs": [
    {
     "name": "stdout",
     "output_type": "stream",
     "text": [
      "<class 'pandas.core.frame.DataFrame'>\n",
      "Int64Index: 38803 entries, 0 to 114936\n",
      "Data columns (total 15 columns):\n",
      "permalink                  38803 non-null object\n",
      "funding_round_permalink    38803 non-null object\n",
      "funding_round_type         38803 non-null object\n",
      "funded_at                  38803 non-null object\n",
      "raised_amount_usd          38803 non-null float64\n",
      "name                       38803 non-null object\n",
      "homepage_url               37011 non-null object\n",
      "category_list              38803 non-null object\n",
      "status                     38803 non-null object\n",
      "country_code               38803 non-null object\n",
      "state_code                 38731 non-null object\n",
      "region                     38647 non-null object\n",
      "city                       38647 non-null object\n",
      "founded_at                 32625 non-null object\n",
      "primary_sector             38803 non-null object\n",
      "dtypes: float64(1), object(14)\n",
      "memory usage: 4.7+ MB\n"
     ]
    }
   ],
   "source": [
    "top3.info()"
   ]
  },
  {
   "cell_type": "code",
   "execution_count": 25,
   "metadata": {},
   "outputs": [],
   "source": [
    "sector_mapping = pd.read_csv('mapping.csv', encoding = 'ISO-8859-1')"
   ]
  },
  {
   "cell_type": "code",
   "execution_count": 26,
   "metadata": {},
   "outputs": [],
   "source": [
    "# There seems to be some values where 'na' is replaced by '0' in the data provided\n",
    "# Example: 'Analytics' is given as A0lytics - chnaging such values\n",
    "# There is an instance with a category name as enterpise 2.0 - hence replacing 2.na with 2.0 for that entry\n",
    "\n",
    "sector_mapping['category_list'] = sector_mapping['category_list'].str.replace('0','na')\n",
    "sector_mapping['category_list'] = sector_mapping['category_list'].str.replace('2.na','2.0')"
   ]
  },
  {
   "cell_type": "code",
   "execution_count": 27,
   "metadata": {},
   "outputs": [],
   "source": [
    "# Reversing one hot encoding of the mapping file using idxmax\n",
    "sector_mapping = sector_mapping.set_index('category_list')\n",
    "sectors = sector_mapping.idxmax(axis = 1).to_frame()\n",
    "sectors = sectors.rename(columns= {0: 'main_sector'})"
   ]
  },
  {
   "cell_type": "code",
   "execution_count": 28,
   "metadata": {},
   "outputs": [],
   "source": [
    "top3 = pd.merge(top3,\n",
    "                sectors,\n",
    "                left_on = 'primary_sector',\n",
    "                right_on = 'category_list',\n",
    "                how = 'left'\n",
    ")"
   ]
  },
  {
   "cell_type": "code",
   "execution_count": 29,
   "metadata": {
    "scrolled": true
   },
   "outputs": [],
   "source": [
    "# Cleaning up the data after the merge and setting the proper column name\n",
    "# Removing the Primary sectors which do not have any main sectors\n",
    "top3 = top3[top3.main_sector.notnull()]"
   ]
  },
  {
   "cell_type": "code",
   "execution_count": 30,
   "metadata": {},
   "outputs": [
    {
     "name": "stdout",
     "output_type": "stream",
     "text": [
      "<class 'pandas.core.frame.DataFrame'>\n",
      "Int64Index: 38642 entries, 0 to 38802\n",
      "Data columns (total 16 columns):\n",
      "permalink                  38642 non-null object\n",
      "funding_round_permalink    38642 non-null object\n",
      "funding_round_type         38642 non-null object\n",
      "funded_at                  38642 non-null object\n",
      "raised_amount_usd          38642 non-null float64\n",
      "name                       38642 non-null object\n",
      "homepage_url               36856 non-null object\n",
      "category_list              38642 non-null object\n",
      "status                     38642 non-null object\n",
      "country_code               38642 non-null object\n",
      "state_code                 38570 non-null object\n",
      "region                     38486 non-null object\n",
      "city                       38486 non-null object\n",
      "founded_at                 32501 non-null object\n",
      "primary_sector             38642 non-null object\n",
      "main_sector                38642 non-null object\n",
      "dtypes: float64(1), object(15)\n",
      "memory usage: 5.0+ MB\n"
     ]
    }
   ],
   "source": [
    "top3.info()"
   ]
  },
  {
   "cell_type": "markdown",
   "metadata": {},
   "source": [
    "# Sector Analysis 2"
   ]
  },
  {
   "cell_type": "code",
   "execution_count": 31,
   "metadata": {},
   "outputs": [],
   "source": [
    "\n",
    "def fn_merge_with_total(country_code):\n",
    "    \n",
    "    '''\n",
    "    This Function takes in the country code and returns a dataframe\n",
    "    The data frame returned will have two additional columns 'total_amount_invested_group' and 'total_number_investment__group'\n",
    "    These columns represent the total amount invested the particular sector\n",
    "    And the total number of investments for that particular Main sector respectively\n",
    "    '''\n",
    "    \n",
    "    df = top3[(top3.country_code == country_code) & (top3.raised_amount_usd<=15000000) & (top3.raised_amount_usd>=5000000)]\n",
    "    \n",
    "    main_sector_df_group = df.groupby('main_sector')['raised_amount_usd'].agg(['count','sum'])\n",
    "    \n",
    "    df = pd.merge(df,\n",
    "              main_sector_df_group,\n",
    "              on = 'main_sector',\n",
    "              how = 'inner'\n",
    "              ) \n",
    "    \n",
    "    return df.rename(columns= {'sum': 'total_amount_invested_group','count':'total_number_investment__group'})  "
   ]
  },
  {
   "cell_type": "code",
   "execution_count": 32,
   "metadata": {},
   "outputs": [],
   "source": [
    "# Creating Dataframes D1, D2, D3 with the function fn_merge_with_total\n",
    "\n",
    "D1 = fn_merge_with_total('USA')\n",
    "D2 = fn_merge_with_total('GBR')\n",
    "D3 = fn_merge_with_total('IND')"
   ]
  },
  {
   "cell_type": "code",
   "execution_count": 33,
   "metadata": {},
   "outputs": [
    {
     "name": "stdout",
     "output_type": "stream",
     "text": [
      "Total number of investments in the US = 12012 \n",
      "\n",
      "Total number of investments in the UK = 619 \n",
      "\n",
      "Total number of investments in INDIA = 328 \n",
      "\n"
     ]
    }
   ],
   "source": [
    "# Total Number of Investemnts in different countries\n",
    "investment_number_usa = D1['raised_amount_usd'].count()\n",
    "investment_number_gbr = D2['raised_amount_usd'].count()\n",
    "investment_number_ind = D3['raised_amount_usd'].count()\n",
    "\n",
    "print(f'Total number of investments in the US = {investment_number_usa} \\n')\n",
    "print(f'Total number of investments in the UK = {investment_number_gbr} \\n')\n",
    "print(f'Total number of investments in INDIA = {investment_number_ind} \\n')"
   ]
  },
  {
   "cell_type": "code",
   "execution_count": 34,
   "metadata": {},
   "outputs": [
    {
     "name": "stdout",
     "output_type": "stream",
     "text": [
      "Total amount of investments in the US = 107318294664.0 \n",
      "\n",
      "Total amount of investments in the UK = 5365228300.0 \n",
      "\n",
      "Total amount of investments in INDIA = 2949543602.0 \n",
      "\n"
     ]
    }
   ],
   "source": [
    "# Total Amount of Investemnts in different countries\n",
    "investment_amount_usa = D1['raised_amount_usd'].sum()\n",
    "investment_amount_gbr = D2['raised_amount_usd'].sum()\n",
    "investment_amount_ind = D3['raised_amount_usd'].sum()\n",
    "\n",
    "print(f'Total amount of investments in the US = {investment_amount_usa} \\n')\n",
    "print(f'Total amount of investments in the UK = {investment_amount_gbr} \\n')\n",
    "print(f'Total amount of investments in INDIA = {investment_amount_ind} \\n')"
   ]
  },
  {
   "cell_type": "code",
   "execution_count": 35,
   "metadata": {},
   "outputs": [
    {
     "data": {
      "text/html": [
       "<div>\n",
       "<style scoped>\n",
       "    .dataframe tbody tr th:only-of-type {\n",
       "        vertical-align: middle;\n",
       "    }\n",
       "\n",
       "    .dataframe tbody tr th {\n",
       "        vertical-align: top;\n",
       "    }\n",
       "\n",
       "    .dataframe thead th {\n",
       "        text-align: right;\n",
       "    }\n",
       "</style>\n",
       "<table border=\"1\" class=\"dataframe\">\n",
       "  <thead>\n",
       "    <tr style=\"text-align: right;\">\n",
       "      <th></th>\n",
       "      <th>count</th>\n",
       "      <th>sum</th>\n",
       "    </tr>\n",
       "    <tr>\n",
       "      <th>main_sector</th>\n",
       "      <th></th>\n",
       "      <th></th>\n",
       "    </tr>\n",
       "  </thead>\n",
       "  <tbody>\n",
       "    <tr>\n",
       "      <th>Others</th>\n",
       "      <td>2950</td>\n",
       "      <td>2.632101e+10</td>\n",
       "    </tr>\n",
       "    <tr>\n",
       "      <th>Social, Finance, Analytics, Advertising</th>\n",
       "      <td>2714</td>\n",
       "      <td>2.380738e+10</td>\n",
       "    </tr>\n",
       "    <tr>\n",
       "      <th>Cleantech / Semiconductors</th>\n",
       "      <td>2300</td>\n",
       "      <td>2.120663e+10</td>\n",
       "    </tr>\n",
       "    <tr>\n",
       "      <th>News, Search and Messaging</th>\n",
       "      <td>1582</td>\n",
       "      <td>1.395957e+10</td>\n",
       "    </tr>\n",
       "    <tr>\n",
       "      <th>Health</th>\n",
       "      <td>909</td>\n",
       "      <td>8.211859e+09</td>\n",
       "    </tr>\n",
       "    <tr>\n",
       "      <th>Manufacturing</th>\n",
       "      <td>799</td>\n",
       "      <td>7.258553e+09</td>\n",
       "    </tr>\n",
       "    <tr>\n",
       "      <th>Entertainment</th>\n",
       "      <td>591</td>\n",
       "      <td>5.099198e+09</td>\n",
       "    </tr>\n",
       "    <tr>\n",
       "      <th>Automotive &amp; Sports</th>\n",
       "      <td>167</td>\n",
       "      <td>1.454104e+09</td>\n",
       "    </tr>\n",
       "  </tbody>\n",
       "</table>\n",
       "</div>"
      ],
      "text/plain": [
       "                                         count           sum\n",
       "main_sector                                                 \n",
       "Others                                    2950  2.632101e+10\n",
       "Social, Finance, Analytics, Advertising   2714  2.380738e+10\n",
       "Cleantech / Semiconductors                2300  2.120663e+10\n",
       "News, Search and Messaging                1582  1.395957e+10\n",
       "Health                                     909  8.211859e+09\n",
       "Manufacturing                              799  7.258553e+09\n",
       "Entertainment                              591  5.099198e+09\n",
       "Automotive & Sports                        167  1.454104e+09"
      ]
     },
     "execution_count": 35,
     "metadata": {},
     "output_type": "execute_result"
    }
   ],
   "source": [
    "# TO find the top 3 sectors based on number of investments for USA\n",
    "D1.groupby('main_sector')['raised_amount_usd'].agg(['count','sum']).sort_values(by = 'count', ascending = False)"
   ]
  },
  {
   "cell_type": "code",
   "execution_count": 36,
   "metadata": {},
   "outputs": [
    {
     "data": {
      "text/html": [
       "<div>\n",
       "<style scoped>\n",
       "    .dataframe tbody tr th:only-of-type {\n",
       "        vertical-align: middle;\n",
       "    }\n",
       "\n",
       "    .dataframe tbody tr th {\n",
       "        vertical-align: top;\n",
       "    }\n",
       "\n",
       "    .dataframe thead th {\n",
       "        text-align: right;\n",
       "    }\n",
       "</style>\n",
       "<table border=\"1\" class=\"dataframe\">\n",
       "  <thead>\n",
       "    <tr style=\"text-align: right;\">\n",
       "      <th></th>\n",
       "      <th>count</th>\n",
       "      <th>sum</th>\n",
       "    </tr>\n",
       "    <tr>\n",
       "      <th>main_sector</th>\n",
       "      <th></th>\n",
       "      <th></th>\n",
       "    </tr>\n",
       "  </thead>\n",
       "  <tbody>\n",
       "    <tr>\n",
       "      <th>Others</th>\n",
       "      <td>147</td>\n",
       "      <td>1.283624e+09</td>\n",
       "    </tr>\n",
       "    <tr>\n",
       "      <th>Social, Finance, Analytics, Advertising</th>\n",
       "      <td>133</td>\n",
       "      <td>1.089404e+09</td>\n",
       "    </tr>\n",
       "    <tr>\n",
       "      <th>Cleantech / Semiconductors</th>\n",
       "      <td>128</td>\n",
       "      <td>1.150140e+09</td>\n",
       "    </tr>\n",
       "    <tr>\n",
       "      <th>News, Search and Messaging</th>\n",
       "      <td>73</td>\n",
       "      <td>6.157462e+08</td>\n",
       "    </tr>\n",
       "    <tr>\n",
       "      <th>Entertainment</th>\n",
       "      <td>56</td>\n",
       "      <td>4.827847e+08</td>\n",
       "    </tr>\n",
       "    <tr>\n",
       "      <th>Manufacturing</th>\n",
       "      <td>42</td>\n",
       "      <td>3.619403e+08</td>\n",
       "    </tr>\n",
       "    <tr>\n",
       "      <th>Health</th>\n",
       "      <td>24</td>\n",
       "      <td>2.145375e+08</td>\n",
       "    </tr>\n",
       "    <tr>\n",
       "      <th>Automotive &amp; Sports</th>\n",
       "      <td>16</td>\n",
       "      <td>1.670516e+08</td>\n",
       "    </tr>\n",
       "  </tbody>\n",
       "</table>\n",
       "</div>"
      ],
      "text/plain": [
       "                                         count           sum\n",
       "main_sector                                                 \n",
       "Others                                     147  1.283624e+09\n",
       "Social, Finance, Analytics, Advertising    133  1.089404e+09\n",
       "Cleantech / Semiconductors                 128  1.150140e+09\n",
       "News, Search and Messaging                  73  6.157462e+08\n",
       "Entertainment                               56  4.827847e+08\n",
       "Manufacturing                               42  3.619403e+08\n",
       "Health                                      24  2.145375e+08\n",
       "Automotive & Sports                         16  1.670516e+08"
      ]
     },
     "execution_count": 36,
     "metadata": {},
     "output_type": "execute_result"
    }
   ],
   "source": [
    "# TO find the top 3 sectors based on number of investments for GBR\n",
    "D2.groupby('main_sector')['raised_amount_usd'].agg(['count','sum']).sort_values(by = 'count', ascending = False)"
   ]
  },
  {
   "cell_type": "code",
   "execution_count": 37,
   "metadata": {},
   "outputs": [
    {
     "data": {
      "text/html": [
       "<div>\n",
       "<style scoped>\n",
       "    .dataframe tbody tr th:only-of-type {\n",
       "        vertical-align: middle;\n",
       "    }\n",
       "\n",
       "    .dataframe tbody tr th {\n",
       "        vertical-align: top;\n",
       "    }\n",
       "\n",
       "    .dataframe thead th {\n",
       "        text-align: right;\n",
       "    }\n",
       "</style>\n",
       "<table border=\"1\" class=\"dataframe\">\n",
       "  <thead>\n",
       "    <tr style=\"text-align: right;\">\n",
       "      <th></th>\n",
       "      <th>count</th>\n",
       "      <th>sum</th>\n",
       "    </tr>\n",
       "    <tr>\n",
       "      <th>main_sector</th>\n",
       "      <th></th>\n",
       "      <th></th>\n",
       "    </tr>\n",
       "  </thead>\n",
       "  <tbody>\n",
       "    <tr>\n",
       "      <th>Others</th>\n",
       "      <td>110</td>\n",
       "      <td>1.013410e+09</td>\n",
       "    </tr>\n",
       "    <tr>\n",
       "      <th>Social, Finance, Analytics, Advertising</th>\n",
       "      <td>60</td>\n",
       "      <td>5.505496e+08</td>\n",
       "    </tr>\n",
       "    <tr>\n",
       "      <th>News, Search and Messaging</th>\n",
       "      <td>52</td>\n",
       "      <td>4.338345e+08</td>\n",
       "    </tr>\n",
       "    <tr>\n",
       "      <th>Entertainment</th>\n",
       "      <td>33</td>\n",
       "      <td>2.808300e+08</td>\n",
       "    </tr>\n",
       "    <tr>\n",
       "      <th>Manufacturing</th>\n",
       "      <td>21</td>\n",
       "      <td>2.009000e+08</td>\n",
       "    </tr>\n",
       "    <tr>\n",
       "      <th>Cleantech / Semiconductors</th>\n",
       "      <td>20</td>\n",
       "      <td>1.653800e+08</td>\n",
       "    </tr>\n",
       "    <tr>\n",
       "      <th>Health</th>\n",
       "      <td>19</td>\n",
       "      <td>1.677400e+08</td>\n",
       "    </tr>\n",
       "    <tr>\n",
       "      <th>Automotive &amp; Sports</th>\n",
       "      <td>13</td>\n",
       "      <td>1.369000e+08</td>\n",
       "    </tr>\n",
       "  </tbody>\n",
       "</table>\n",
       "</div>"
      ],
      "text/plain": [
       "                                         count           sum\n",
       "main_sector                                                 \n",
       "Others                                     110  1.013410e+09\n",
       "Social, Finance, Analytics, Advertising     60  5.505496e+08\n",
       "News, Search and Messaging                  52  4.338345e+08\n",
       "Entertainment                               33  2.808300e+08\n",
       "Manufacturing                               21  2.009000e+08\n",
       "Cleantech / Semiconductors                  20  1.653800e+08\n",
       "Health                                      19  1.677400e+08\n",
       "Automotive & Sports                         13  1.369000e+08"
      ]
     },
     "execution_count": 37,
     "metadata": {},
     "output_type": "execute_result"
    }
   ],
   "source": [
    "# TO find the top 3 sectors based on number of investments for IND\n",
    "D3.groupby('main_sector')['raised_amount_usd'].agg(['count','sum']).sort_values(by = 'count', ascending = False)"
   ]
  },
  {
   "cell_type": "code",
   "execution_count": 38,
   "metadata": {},
   "outputs": [],
   "source": [
    "def fn_get_company_name(df,main_sector):\n",
    "    top_others_company = df[df.main_sector == main_sector].groupby('permalink')['raised_amount_usd'].sum().sort_values(ascending = False)\n",
    "    permalink1 = top_others_company.index[0]\n",
    "    return df[df.permalink == permalink1].name.unique()"
   ]
  },
  {
   "cell_type": "code",
   "execution_count": 39,
   "metadata": {},
   "outputs": [
    {
     "data": {
      "text/plain": [
       "array(['Virtustream'], dtype=object)"
      ]
     },
     "execution_count": 39,
     "metadata": {},
     "output_type": "execute_result"
    }
   ],
   "source": [
    "# Company with the highest investment in the USA for the sector Others\n",
    "fn_get_company_name(D1,'Others')"
   ]
  },
  {
   "cell_type": "code",
   "execution_count": 40,
   "metadata": {},
   "outputs": [
    {
     "data": {
      "text/plain": [
       "array(['SST Inc. (Formerly ShotSpotter)'], dtype=object)"
      ]
     },
     "execution_count": 40,
     "metadata": {},
     "output_type": "execute_result"
    }
   ],
   "source": [
    "# Company with the highest investment in the USA for the sector Social, Finance, Analytics, Advertising\n",
    "fn_get_company_name(D1,'Social, Finance, Analytics, Advertising')"
   ]
  },
  {
   "cell_type": "code",
   "execution_count": 41,
   "metadata": {},
   "outputs": [
    {
     "data": {
      "text/plain": [
       "array(['Electric Cloud'], dtype=object)"
      ]
     },
     "execution_count": 41,
     "metadata": {},
     "output_type": "execute_result"
    }
   ],
   "source": [
    "# Company with the highest investment in GBR for the sector Others\n",
    "fn_get_company_name(D2,'Others')"
   ]
  },
  {
   "cell_type": "code",
   "execution_count": 42,
   "metadata": {},
   "outputs": [
    {
     "data": {
      "text/plain": [
       "array(['Celltick Technologies'], dtype=object)"
      ]
     },
     "execution_count": 42,
     "metadata": {},
     "output_type": "execute_result"
    }
   ],
   "source": [
    "# Company with the highest investment in GBR for the sector Social, Finance, Analytics, Advertising\n",
    "fn_get_company_name(D2,'Social, Finance, Analytics, Advertising')"
   ]
  },
  {
   "cell_type": "code",
   "execution_count": 43,
   "metadata": {},
   "outputs": [
    {
     "data": {
      "text/plain": [
       "array(['FirstCry.com'], dtype=object)"
      ]
     },
     "execution_count": 43,
     "metadata": {},
     "output_type": "execute_result"
    }
   ],
   "source": [
    "# Company with the highest investment in IND for the sector Others\n",
    "fn_get_company_name(D3,'Others')"
   ]
  },
  {
   "cell_type": "code",
   "execution_count": 44,
   "metadata": {},
   "outputs": [
    {
     "data": {
      "text/plain": [
       "array(['Manthan Systems'], dtype=object)"
      ]
     },
     "execution_count": 44,
     "metadata": {},
     "output_type": "execute_result"
    }
   ],
   "source": [
    "# Company with the highest investment in IND for the sector Social, Finance, Analytics, Advertising\n",
    "fn_get_company_name(D3,'Social, Finance, Analytics, Advertising')"
   ]
  },
  {
   "cell_type": "markdown",
   "metadata": {},
   "source": [
    "# Plots"
   ]
  },
  {
   "cell_type": "code",
   "execution_count": 45,
   "metadata": {},
   "outputs": [],
   "source": [
    "# A plot showing the fraction of total investments (globally) in venture, seed, and private equity, \n",
    "# and the average amount of investment in each funding type.\n",
    "# Two plots seemed appropriate for this Pie to show the fraction and Bar to show the averages, hence using two.\n",
    "\n",
    "rounds2 = rounds2[rounds2.raised_amount_usd.notnull()]\n",
    "fund_types_data = rounds2.groupby('funding_round_type')['raised_amount_usd'].agg(['count','mean'])\n",
    "\n",
    "other_types = fund_types_data.drop(['venture','seed','private_equity'])\n",
    "sum_of_others = other_types['count'].sum()\n",
    "\n",
    "\n",
    "fund_types_data = fund_types_data.loc[['venture','seed','private_equity']]\n",
    "s = pd.Series({'count':sum_of_others,'mean':0})\n",
    "s.name = 'others'\n",
    "fund_types_data = fund_types_data.append(s)"
   ]
  },
  {
   "cell_type": "code",
   "execution_count": 46,
   "metadata": {},
   "outputs": [
    {
     "data": {
      "image/png": "[encoded data removed]",
      "text/plain": [
       "<Figure size 640x480 with 1 Axes>"
      ]
     },
     "metadata": {},
     "output_type": "display_data"
    }
   ],
   "source": [
    "# Create a pie chart\n",
    "from matplotlib.pyplot import figure\n",
    "figure(num=None, figsize=(8, 6), dpi=80, facecolor='w', edgecolor='k')\n",
    "\n",
    "plt.pie(fund_types_data['count'],\n",
    "        labels = fund_types_data.index.values,\n",
    "        autopct='%1.1f%%',\n",
    "        shadow=True, \n",
    "        startangle=90,\n",
    "        )\n",
    "\n",
    "plt.title('Global Investments - Major types')\n",
    "\n",
    "plt.show()"
   ]
  },
  {
   "cell_type": "code",
   "execution_count": 47,
   "metadata": {},
   "outputs": [
    {
     "data": {
      "image/png": "[encoded data removed]",
      "text/plain": [
       "<Figure size 432x288 with 1 Axes>"
      ]
     },
     "metadata": {
      "needs_background": "light"
     },
     "output_type": "display_data"
    }
   ],
   "source": [
    "# Creating a barchart for the average investments in Log Scale since the values are too high\n",
    "\n",
    "fund_types_data = fund_types_data[0:3]\n",
    "ax = sns.barplot(x=fund_types_data.index.values, y=fund_types_data['mean'])\n",
    "ax.set_title('Average Investments')\n",
    "ax.set(xlabel='Fund Types', ylabel='Average Funds')\n",
    "ax.set_yscale('log')"
   ]
  },
  {
   "cell_type": "code",
   "execution_count": 48,
   "metadata": {},
   "outputs": [],
   "source": [
    "# Plot for top 9 countries against toal amount of investment in venture type funding\n",
    "# Here language is not taken into conisderation, the values are filtered out in the subsequent graph.\n",
    "\n",
    "top9_plot_data = top9.groupby('country_code').sum()"
   ]
  },
  {
   "cell_type": "code",
   "execution_count": 49,
   "metadata": {},
   "outputs": [
    {
     "data": {
      "image/png": "[encoded data removed]",
      "text/plain": [
       "<Figure size 432x288 with 1 Axes>"
      ]
     },
     "metadata": {
      "needs_background": "light"
     },
     "output_type": "display_data"
    }
   ],
   "source": [
    "ax = sns.barplot(x=top9_plot_data.index.values, y=top9_plot_data['raised_amount_usd'])\n",
    "ax.set_title('Total Investments in Top 9 Countries')\n",
    "ax.set(xlabel='Countries (No language restrictions)', ylabel='Total Invested Amount')\n",
    "ax.set_yscale('log')"
   ]
  },
  {
   "cell_type": "code",
   "execution_count": 50,
   "metadata": {},
   "outputs": [],
   "source": [
    "# Getting the data for the top 3 sectors (In terms of number of investments in Venture type) in top 3 english speaking countries.\n",
    "D3_plot_data = D3.groupby('main_sector').count().sort_values('raised_amount_usd',ascending = False).head(3)['total_number_investment__group']\n",
    "D2_plot_data = D2.groupby('main_sector').count().sort_values('raised_amount_usd',ascending = False).head(3)['total_number_investment__group']\n",
    "D1_plot_data = D1.groupby('main_sector').count().sort_values('raised_amount_usd',ascending = False).head(3)['total_number_investment__group']"
   ]
  },
  {
   "cell_type": "code",
   "execution_count": 51,
   "metadata": {},
   "outputs": [
    {
     "data": {
      "text/plain": [
       "main_sector\n",
       "Others                                     2950\n",
       "Social, Finance, Analytics, Advertising    2714\n",
       "Cleantech / Semiconductors                 2300\n",
       "Name: total_number_investment__group, dtype: int64"
      ]
     },
     "execution_count": 51,
     "metadata": {},
     "output_type": "execute_result"
    }
   ],
   "source": [
    "D1_plot_data"
   ]
  },
  {
   "cell_type": "code",
   "execution_count": 52,
   "metadata": {},
   "outputs": [
    {
     "data": {
      "text/plain": [
       "main_sector\n",
       "Others                                     147\n",
       "Social, Finance, Analytics, Advertising    133\n",
       "Cleantech / Semiconductors                 128\n",
       "Name: total_number_investment__group, dtype: int64"
      ]
     },
     "execution_count": 52,
     "metadata": {},
     "output_type": "execute_result"
    }
   ],
   "source": [
    "D2_plot_data"
   ]
  },
  {
   "cell_type": "code",
   "execution_count": 53,
   "metadata": {},
   "outputs": [
    {
     "data": {
      "text/plain": [
       "main_sector\n",
       "Others                                     110\n",
       "Social, Finance, Analytics, Advertising     60\n",
       "News, Search and Messaging                  52\n",
       "Name: total_number_investment__group, dtype: int64"
      ]
     },
     "execution_count": 53,
     "metadata": {},
     "output_type": "execute_result"
    }
   ],
   "source": [
    "D3_plot_data"
   ]
  },
  {
   "cell_type": "code",
   "execution_count": 54,
   "metadata": {},
   "outputs": [
    {
     "data": {
      "image/png": "[encoded data removed]",
      "text/plain": [
       "<Figure size 1440x576 with 1 Axes>"
      ]
     },
     "metadata": {
      "needs_background": "light"
     },
     "output_type": "display_data"
    }
   ],
   "source": [
    "# Plotting data for the above. X axis has the Groups of Top 1, 2 and 3 Sectors which are further grouped into countries\n",
    "# Y axis shows the Number of investments in each of those sectors.\n",
    "\n",
    "width = 0.25 \n",
    "\n",
    "fig, ax = plt.subplots(figsize=(20,8))\n",
    "\n",
    "plt.bar([0,1,2], \n",
    "        D1_plot_data, \n",
    "        width, \n",
    "        alpha=0.5, \n",
    "        color='#EE3224', \n",
    "        label='USA') \n",
    "\n",
    "plt.bar([p + width for p in range(0,3)], \n",
    "        D2_plot_data,\n",
    "        width, \n",
    "        alpha=0.5, \n",
    "        color='#F78F1E', \n",
    "        label='GBR')\n",
    "\n",
    "plt.bar([p + width*2 for p in range(0,3)], \n",
    "        D3_plot_data, \n",
    "        width, \n",
    "        alpha=0.5, \n",
    "        color='#FFC222', \n",
    "        label='IND') \n",
    "\n",
    "# Set the y axis label\n",
    "ax.set_ylabel('Number of Investments')\n",
    "\n",
    "# Set the chart's title\n",
    "ax.set_title('Investments in the Top 3 countries')\n",
    "\n",
    "# Set the position of the x ticks\n",
    "ax.set_xticks([p + 1.5 * width for p in range(0,3)])\n",
    "\n",
    "# Set the labels for the x ticks\n",
    "ax.set_xticklabels(['Others','Social, Finance, Analytics, Advertising', 'Cleantech / Semiconductors(USA & GBR), News, Search and Messaging(IND)'])\n",
    "\n",
    "# Adding the legend and showing the plot\n",
    "plt.legend(['USA', 'GBR', 'IND'], loc='upper right')\n",
    "plt.grid()\n",
    "plt.show()\n",
    "\n"
   ]
  },
  {
   "cell_type": "code",
   "execution_count": null,
   "metadata": {},
   "outputs": [],
   "source": []
  }
 ],
 "metadata": {
  "kernelspec": {
   "display_name": "Python 3",
   "language": "python",
   "name": "python3"
  },
  "language_info": {
   "codemirror_mode": {
    "name": "ipython",
    "version": 3
   },
   "file_extension": ".py",
   "mimetype": "text/x-python",
   "name": "python",
   "nbconvert_exporter": "python",
   "pygments_lexer": "ipython3",
   "version": "3.7.4"
  }
 },
 "nbformat": 4,
 "nbformat_minor": 2
}
